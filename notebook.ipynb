{
  "cells": [
    {
      "cell_type": "markdown",
      "metadata": {
        "id": "H9wADwK78DCz"
      },
      "source": [
        "# Proyek Analisis Data: [Bike-sharing-dataset]\n",
        "- **Nama:** [Samuel Rama Silo Padang]\n",
        "- **Email:** [samuelpadang97@gmail.com]\n",
        "- **ID Dicoding:** [MC240D5Y1724]"
      ]
    },
    {
      "cell_type": "markdown",
      "metadata": {
        "id": "eE0raob58DC0"
      },
      "source": [
        "## Menentukan Pertanyaan Bisnis"
      ]
    },
    {
      "cell_type": "markdown",
      "metadata": {
        "id": "GmQeQ5YF8DC0"
      },
      "source": [
        "- Pertanyaan 1: Bagaimana tren penggunaan bike sharing setiap musim dalam satu tahun? Apakah ada perbedaan performa penggunaan antar musim (misalnya, musim dingin vs musim panas)?\n",
        "- Pertanyaan 2: Bagaimana perbedaan jumlah penyewaan bike sharing antara hari kerja dan akhir pekan pada musim tertentu? Apakah pengaruhnya berbeda di setiap musim?"
      ]
    },
    {
      "cell_type": "markdown",
      "metadata": {
        "id": "H-z4QGlO8DC1"
      },
      "source": [
        "## Import Semua Packages/Library yang Digunakan"
      ]
    },
    {
      "cell_type": "code",
      "execution_count": 29,
      "metadata": {
        "id": "FVYwaObI8DC1"
      },
      "outputs": [],
      "source": [
        "import pandas as pd\n",
        "import numpy as np\n",
        "import matplotlib.pyplot as plt\n",
        "import matplotlib.ticker as ticker \n",
        "import seaborn as sns"
      ]
    },
    {
      "cell_type": "markdown",
      "metadata": {},
      "source": [
        "- pandas as pd, digunakan untuk mengambil, membaca, dan memanipulasi dataset, terutama format seperti CSV, Excel, atau SQL.\n",
        "\n",
        "- numpy as np, digunakan untuk melakukan operasi matematis dan manipulasi array, seperti menghitung rata-rata atau standar deviasi.\n",
        "\n",
        "- matplotlib.pyplot as plt, digunakan untuk membuat visualisasi data, seperti grafik garis, histogram, dan scatter plot.\n",
        "\n",
        "- matplotlib.ticker as ticker, digunakan untuk mengatur dan memformat angka pada sumbu (axis), misalnya mengubah angka besar menjadi format seperti 1K atau 1M.\n",
        "\n",
        "- seaborn as sns, digunakan untuk membuat visualisasi data yang lebih menarik dan informatif secara visual, seperti heatmap, grafik distribusi, atau pair plot."
      ]
    },
    {
      "cell_type": "code",
      "execution_count": 30,
      "metadata": {},
      "outputs": [],
      "source": [
        "pd.set_option('display.max_columns', None)  \n",
        "pd.set_option('display.expand_frame_repr', False)  "
      ]
    },
    {
      "cell_type": "markdown",
      "metadata": {},
      "source": [
        "- pd.set_option('display.max_columns', None), digunakan untuk menampilkan semua kolom dalam DataFrame agar tidak ada kolom yang disembunyikan saat data ditampilkan di terminal atau notebook.\n",
        "\n",
        "- pd.set_option('display.expand_frame_repr', False), digunakan untuk memastikan tampilan DataFrame tetap dalam satu baris horizontal tanpa dipotong menjadi beberapa bagian."
      ]
    },
    {
      "cell_type": "markdown",
      "metadata": {},
      "source": [
        "# DATA WRANGLING"
      ]
    },
    {
      "cell_type": "markdown",
      "metadata": {},
      "source": [
        "### GATHERING DATA"
      ]
    },
    {
      "cell_type": "code",
      "execution_count": 80,
      "metadata": {},
      "outputs": [],
      "source": [
        "hour_df = pd.read_csv(\"data/hour.csv\")\n",
        "day_df = pd.read_csv(\"data/day.csv\")"
      ]
    },
    {
      "cell_type": "markdown",
      "metadata": {},
      "source": [
        "tahap awal mengumpulkan data, kita memiliki 2 dataset yang bernama hour dan day. karena type datasetnya adalah csv jadi kita cukup menggunakan read_csv untuk membaca datanya"
      ]
    },
    {
      "cell_type": "markdown",
      "metadata": {},
      "source": [
        "### ASSESING DATA\n",
        "sebelum memulai mengolah data, kita mengecek terlebih dahulu apakah ada duplikasi data, data kosong, atau type data yang tidak sesuai pada kolom data yang akan kita teliti"
      ]
    },
    {
      "cell_type": "code",
      "execution_count": 27,
      "metadata": {},
      "outputs": [
        {
          "data": {
            "text/plain": [
              "instant       0\n",
              "dteday        0\n",
              "season        0\n",
              "yr            0\n",
              "mnth          0\n",
              "hr            0\n",
              "holiday       0\n",
              "weekday       0\n",
              "workingday    0\n",
              "weathersit    0\n",
              "temp          0\n",
              "atemp         0\n",
              "hum           0\n",
              "windspeed     0\n",
              "casual        0\n",
              "registered    0\n",
              "cnt           0\n",
              "dtype: int64"
            ]
          },
          "execution_count": 27,
          "metadata": {},
          "output_type": "execute_result"
        }
      ],
      "source": [
        "hour_df.isnull().sum()"
      ]
    },
    {
      "cell_type": "markdown",
      "metadata": {},
      "source": [
        "Tidak ditemukannya kolom kosong pada tabel hour"
      ]
    },
    {
      "cell_type": "code",
      "execution_count": 66,
      "metadata": {},
      "outputs": [
        {
          "data": {
            "text/plain": [
              "instant       0\n",
              "dteday        0\n",
              "season        0\n",
              "yr            0\n",
              "mnth          0\n",
              "holiday       0\n",
              "weekday       0\n",
              "workingday    0\n",
              "weathersit    0\n",
              "temp          0\n",
              "atemp         0\n",
              "hum           0\n",
              "windspeed     0\n",
              "casual        0\n",
              "registered    0\n",
              "cnt           0\n",
              "dtype: int64"
            ]
          },
          "execution_count": 66,
          "metadata": {},
          "output_type": "execute_result"
        }
      ],
      "source": [
        "day_df.isnull().sum()"
      ]
    },
    {
      "cell_type": "markdown",
      "metadata": {},
      "source": [
        "Tidak ditemukannya kolom kosong pada dabel day\n",
        "\n",
        "**kesimpulan:** Karena tidak ditemukannya data kosong, maka kita bisa melanjutkan ke tahap selanjutnya."
      ]
    },
    {
      "cell_type": "code",
      "execution_count": 67,
      "metadata": {},
      "outputs": [
        {
          "name": "stdout",
          "output_type": "stream",
          "text": [
            "Empty DataFrame\n",
            "Columns: [instant, dteday, season, yr, mnth, hr, holiday, weekday, workingday, weathersit, temp, atemp, hum, windspeed, casual, registered, cnt]\n",
            "Index: []\n",
            "\n",
            "\n",
            "Empty DataFrame\n",
            "Columns: [instant, dteday, season, yr, mnth, holiday, weekday, workingday, weathersit, temp, atemp, hum, windspeed, casual, registered, cnt]\n",
            "Index: []\n"
          ]
        }
      ],
      "source": [
        "print(hour_df[hour_df.duplicated()])\n",
        "print(\"\\n\")\n",
        "print(day_df[day_df.duplicated()])"
      ]
    },
    {
      "cell_type": "markdown",
      "metadata": {},
      "source": [
        "**kesimpulan:** tidak ditemukannya data duplikat pada kedua dataframe"
      ]
    },
    {
      "cell_type": "code",
      "execution_count": 16,
      "metadata": {},
      "outputs": [
        {
          "name": "stdout",
          "output_type": "stream",
          "text": [
            "<class 'pandas.core.frame.DataFrame'>\n",
            "RangeIndex: 17379 entries, 0 to 17378\n",
            "Data columns (total 17 columns):\n",
            " #   Column      Non-Null Count  Dtype  \n",
            "---  ------      --------------  -----  \n",
            " 0   instant     17379 non-null  int64  \n",
            " 1   dteday      17379 non-null  object \n",
            " 2   season      17379 non-null  int64  \n",
            " 3   yr          17379 non-null  int64  \n",
            " 4   mnth        17379 non-null  int64  \n",
            " 5   hr          17379 non-null  int64  \n",
            " 6   holiday     17379 non-null  int64  \n",
            " 7   weekday     17379 non-null  int64  \n",
            " 8   workingday  17379 non-null  int64  \n",
            " 9   weathersit  17379 non-null  int64  \n",
            " 10  temp        17379 non-null  float64\n",
            " 11  atemp       17379 non-null  float64\n",
            " 12  hum         17379 non-null  float64\n",
            " 13  windspeed   17379 non-null  float64\n",
            " 14  casual      17379 non-null  int64  \n",
            " 15  registered  17379 non-null  int64  \n",
            " 16  cnt         17379 non-null  int64  \n",
            "dtypes: float64(4), int64(12), object(1)\n",
            "memory usage: 2.3+ MB\n",
            "\n",
            "\n",
            "<class 'pandas.core.frame.DataFrame'>\n",
            "RangeIndex: 731 entries, 0 to 730\n",
            "Data columns (total 16 columns):\n",
            " #   Column      Non-Null Count  Dtype  \n",
            "---  ------      --------------  -----  \n",
            " 0   instant     731 non-null    int64  \n",
            " 1   dteday      731 non-null    object \n",
            " 2   season      731 non-null    int64  \n",
            " 3   yr          731 non-null    int64  \n",
            " 4   mnth        731 non-null    int64  \n",
            " 5   holiday     731 non-null    int64  \n",
            " 6   weekday     731 non-null    int64  \n",
            " 7   workingday  731 non-null    int64  \n",
            " 8   weathersit  731 non-null    int64  \n",
            " 9   temp        731 non-null    float64\n",
            " 10  atemp       731 non-null    float64\n",
            " 11  hum         731 non-null    float64\n",
            " 12  windspeed   731 non-null    float64\n",
            " 13  casual      731 non-null    int64  \n",
            " 14  registered  731 non-null    int64  \n",
            " 15  cnt         731 non-null    int64  \n",
            "dtypes: float64(4), int64(11), object(1)\n",
            "memory usage: 91.5+ KB\n"
          ]
        }
      ],
      "source": [
        "hour_df.info()\n",
        "print('\\n')\n",
        "day_df.info()"
      ]
    },
    {
      "cell_type": "markdown",
      "metadata": {},
      "source": [
        "dari output diatas kita dapat melihat bahwa ada sedikit kesalahan yang dapat diperbaiki yaitu pada kolom dtday yang bertipe object, disini kita ingin mengubahnya ket tipe datetime agar memudahkan proses penghitungan "
      ]
    },
    {
      "cell_type": "markdown",
      "metadata": {},
      "source": [
        "### CLEANING DATA\n",
        "setelah melakukan Assesing data, kita menemukan sedikit kesalahan, yaitu type data yang kurang sesuai.\n",
        "untuk mempermudah perhitungan nantinya, kita mau mengganti type data pada dtday, season, dan weathersit."
      ]
    },
    {
      "cell_type": "code",
      "execution_count": 81,
      "metadata": {},
      "outputs": [
        {
          "name": "stdout",
          "output_type": "stream",
          "text": [
            "<class 'pandas.core.frame.DataFrame'>\n",
            "RangeIndex: 17379 entries, 0 to 17378\n",
            "Data columns (total 17 columns):\n",
            " #   Column      Non-Null Count  Dtype         \n",
            "---  ------      --------------  -----         \n",
            " 0   instant     17379 non-null  int64         \n",
            " 1   dteday      17379 non-null  datetime64[ns]\n",
            " 2   season      17379 non-null  int64         \n",
            " 3   yr          17379 non-null  int64         \n",
            " 4   mnth        17379 non-null  int64         \n",
            " 5   hr          17379 non-null  int64         \n",
            " 6   holiday     17379 non-null  int64         \n",
            " 7   weekday     17379 non-null  int64         \n",
            " 8   workingday  17379 non-null  int64         \n",
            " 9   weathersit  17379 non-null  int64         \n",
            " 10  temp        17379 non-null  float64       \n",
            " 11  atemp       17379 non-null  float64       \n",
            " 12  hum         17379 non-null  float64       \n",
            " 13  windspeed   17379 non-null  float64       \n",
            " 14  casual      17379 non-null  int64         \n",
            " 15  registered  17379 non-null  int64         \n",
            " 16  cnt         17379 non-null  int64         \n",
            "dtypes: datetime64[ns](1), float64(4), int64(12)\n",
            "memory usage: 2.3 MB\n",
            "\n",
            "\n",
            "<class 'pandas.core.frame.DataFrame'>\n",
            "RangeIndex: 731 entries, 0 to 730\n",
            "Data columns (total 16 columns):\n",
            " #   Column      Non-Null Count  Dtype         \n",
            "---  ------      --------------  -----         \n",
            " 0   instant     731 non-null    int64         \n",
            " 1   dteday      731 non-null    datetime64[ns]\n",
            " 2   season      731 non-null    int64         \n",
            " 3   yr          731 non-null    int64         \n",
            " 4   mnth        731 non-null    int64         \n",
            " 5   holiday     731 non-null    int64         \n",
            " 6   weekday     731 non-null    int64         \n",
            " 7   workingday  731 non-null    int64         \n",
            " 8   weathersit  731 non-null    int64         \n",
            " 9   temp        731 non-null    float64       \n",
            " 10  atemp       731 non-null    float64       \n",
            " 11  hum         731 non-null    float64       \n",
            " 12  windspeed   731 non-null    float64       \n",
            " 13  casual      731 non-null    int64         \n",
            " 14  registered  731 non-null    int64         \n",
            " 15  cnt         731 non-null    int64         \n",
            "dtypes: datetime64[ns](1), float64(4), int64(11)\n",
            "memory usage: 91.5 KB\n"
          ]
        }
      ],
      "source": [
        "hour_df['dteday'] = pd.to_datetime(hour_df['dteday'])\n",
        "day_df['dteday']= pd.to_datetime(day_df['dteday'])\n",
        "\n",
        "hour_df.info()\n",
        "print('\\n')\n",
        "day_df.info()\n"
      ]
    },
    {
      "cell_type": "markdown",
      "metadata": {},
      "source": [
        "dari hasil run diatas, bisa kita lihat bahwa tipe data pada kolom dtday telah berubah dari object menjadi datetime"
      ]
    },
    {
      "cell_type": "code",
      "execution_count": 82,
      "metadata": {},
      "outputs": [
        {
          "name": "stdout",
          "output_type": "stream",
          "text": [
            "<class 'pandas.core.frame.DataFrame'>\n",
            "RangeIndex: 17379 entries, 0 to 17378\n",
            "Data columns (total 17 columns):\n",
            " #   Column      Non-Null Count  Dtype         \n",
            "---  ------      --------------  -----         \n",
            " 0   instant     17379 non-null  int64         \n",
            " 1   dteday      17379 non-null  datetime64[ns]\n",
            " 2   season      17379 non-null  category      \n",
            " 3   yr          17379 non-null  int64         \n",
            " 4   mnth        17379 non-null  int64         \n",
            " 5   hr          17379 non-null  int64         \n",
            " 6   holiday     17379 non-null  int64         \n",
            " 7   weekday     17379 non-null  int64         \n",
            " 8   workingday  17379 non-null  int64         \n",
            " 9   weathersit  17379 non-null  category      \n",
            " 10  temp        17379 non-null  float64       \n",
            " 11  atemp       17379 non-null  float64       \n",
            " 12  hum         17379 non-null  float64       \n",
            " 13  windspeed   17379 non-null  float64       \n",
            " 14  casual      17379 non-null  int64         \n",
            " 15  registered  17379 non-null  int64         \n",
            " 16  cnt         17379 non-null  int64         \n",
            "dtypes: category(2), datetime64[ns](1), float64(4), int64(10)\n",
            "memory usage: 2.0 MB\n"
          ]
        },
        {
          "data": {
            "text/html": [
              "<div>\n",
              "<style scoped>\n",
              "    .dataframe tbody tr th:only-of-type {\n",
              "        vertical-align: middle;\n",
              "    }\n",
              "\n",
              "    .dataframe tbody tr th {\n",
              "        vertical-align: top;\n",
              "    }\n",
              "\n",
              "    .dataframe thead th {\n",
              "        text-align: right;\n",
              "    }\n",
              "</style>\n",
              "<table border=\"1\" class=\"dataframe\">\n",
              "  <thead>\n",
              "    <tr style=\"text-align: right;\">\n",
              "      <th></th>\n",
              "      <th>instant</th>\n",
              "      <th>dteday</th>\n",
              "      <th>season</th>\n",
              "      <th>yr</th>\n",
              "      <th>mnth</th>\n",
              "      <th>hr</th>\n",
              "      <th>holiday</th>\n",
              "      <th>weekday</th>\n",
              "      <th>workingday</th>\n",
              "      <th>weathersit</th>\n",
              "      <th>temp</th>\n",
              "      <th>atemp</th>\n",
              "      <th>hum</th>\n",
              "      <th>windspeed</th>\n",
              "      <th>casual</th>\n",
              "      <th>registered</th>\n",
              "      <th>cnt</th>\n",
              "    </tr>\n",
              "  </thead>\n",
              "  <tbody>\n",
              "    <tr>\n",
              "      <th>0</th>\n",
              "      <td>1</td>\n",
              "      <td>2011-01-01</td>\n",
              "      <td>Spring</td>\n",
              "      <td>0</td>\n",
              "      <td>1</td>\n",
              "      <td>0</td>\n",
              "      <td>0</td>\n",
              "      <td>6</td>\n",
              "      <td>0</td>\n",
              "      <td>Clear/Few Clouds</td>\n",
              "      <td>0.24</td>\n",
              "      <td>0.2879</td>\n",
              "      <td>0.81</td>\n",
              "      <td>0.0</td>\n",
              "      <td>3</td>\n",
              "      <td>13</td>\n",
              "      <td>16</td>\n",
              "    </tr>\n",
              "    <tr>\n",
              "      <th>1</th>\n",
              "      <td>2</td>\n",
              "      <td>2011-01-01</td>\n",
              "      <td>Spring</td>\n",
              "      <td>0</td>\n",
              "      <td>1</td>\n",
              "      <td>1</td>\n",
              "      <td>0</td>\n",
              "      <td>6</td>\n",
              "      <td>0</td>\n",
              "      <td>Clear/Few Clouds</td>\n",
              "      <td>0.22</td>\n",
              "      <td>0.2727</td>\n",
              "      <td>0.80</td>\n",
              "      <td>0.0</td>\n",
              "      <td>8</td>\n",
              "      <td>32</td>\n",
              "      <td>40</td>\n",
              "    </tr>\n",
              "    <tr>\n",
              "      <th>2</th>\n",
              "      <td>3</td>\n",
              "      <td>2011-01-01</td>\n",
              "      <td>Spring</td>\n",
              "      <td>0</td>\n",
              "      <td>1</td>\n",
              "      <td>2</td>\n",
              "      <td>0</td>\n",
              "      <td>6</td>\n",
              "      <td>0</td>\n",
              "      <td>Clear/Few Clouds</td>\n",
              "      <td>0.22</td>\n",
              "      <td>0.2727</td>\n",
              "      <td>0.80</td>\n",
              "      <td>0.0</td>\n",
              "      <td>5</td>\n",
              "      <td>27</td>\n",
              "      <td>32</td>\n",
              "    </tr>\n",
              "    <tr>\n",
              "      <th>3</th>\n",
              "      <td>4</td>\n",
              "      <td>2011-01-01</td>\n",
              "      <td>Spring</td>\n",
              "      <td>0</td>\n",
              "      <td>1</td>\n",
              "      <td>3</td>\n",
              "      <td>0</td>\n",
              "      <td>6</td>\n",
              "      <td>0</td>\n",
              "      <td>Clear/Few Clouds</td>\n",
              "      <td>0.24</td>\n",
              "      <td>0.2879</td>\n",
              "      <td>0.75</td>\n",
              "      <td>0.0</td>\n",
              "      <td>3</td>\n",
              "      <td>10</td>\n",
              "      <td>13</td>\n",
              "    </tr>\n",
              "    <tr>\n",
              "      <th>4</th>\n",
              "      <td>5</td>\n",
              "      <td>2011-01-01</td>\n",
              "      <td>Spring</td>\n",
              "      <td>0</td>\n",
              "      <td>1</td>\n",
              "      <td>4</td>\n",
              "      <td>0</td>\n",
              "      <td>6</td>\n",
              "      <td>0</td>\n",
              "      <td>Clear/Few Clouds</td>\n",
              "      <td>0.24</td>\n",
              "      <td>0.2879</td>\n",
              "      <td>0.75</td>\n",
              "      <td>0.0</td>\n",
              "      <td>0</td>\n",
              "      <td>1</td>\n",
              "      <td>1</td>\n",
              "    </tr>\n",
              "  </tbody>\n",
              "</table>\n",
              "</div>"
            ],
            "text/plain": [
              "   instant     dteday  season  yr  mnth  hr  holiday  weekday  workingday        weathersit  temp   atemp   hum  windspeed  casual  registered  cnt\n",
              "0        1 2011-01-01  Spring   0     1   0        0        6           0  Clear/Few Clouds  0.24  0.2879  0.81        0.0       3          13   16\n",
              "1        2 2011-01-01  Spring   0     1   1        0        6           0  Clear/Few Clouds  0.22  0.2727  0.80        0.0       8          32   40\n",
              "2        3 2011-01-01  Spring   0     1   2        0        6           0  Clear/Few Clouds  0.22  0.2727  0.80        0.0       5          27   32\n",
              "3        4 2011-01-01  Spring   0     1   3        0        6           0  Clear/Few Clouds  0.24  0.2879  0.75        0.0       3          10   13\n",
              "4        5 2011-01-01  Spring   0     1   4        0        6           0  Clear/Few Clouds  0.24  0.2879  0.75        0.0       0           1    1"
            ]
          },
          "execution_count": 82,
          "metadata": {},
          "output_type": "execute_result"
        }
      ],
      "source": [
        "hour_df['season'] = hour_df['season'].astype('category')\n",
        "hour_df['weathersit'] = hour_df['weathersit'].astype('category')\n",
        "\n",
        "hour_df['season'] = hour_df['season'].cat.rename_categories({\n",
        "    1: 'Spring',\n",
        "    2: 'Summer',\n",
        "    3: 'Fall',\n",
        "    4: 'Winter'\n",
        "})\n",
        "\n",
        "hour_df['weathersit'] = hour_df['weathersit'].cat.rename_categories({\n",
        "    1: 'Clear/Few Clouds',\n",
        "    2: 'Mist/Cloudy',\n",
        "    3: 'Light Rain/Snow',\n",
        "    4: 'Heavy Rain/Snow'\n",
        "})\n",
        "\n",
        "hour_df.info()\n",
        "hour_df.head()\n"
      ]
    },
    {
      "cell_type": "markdown",
      "metadata": {},
      "source": [
        "setelah mengubah type data dtday, kita mencoba mengubah type data season dan weathersit agar lebih sesuai dan mudah dibaca"
      ]
    },
    {
      "cell_type": "code",
      "execution_count": 83,
      "metadata": {},
      "outputs": [
        {
          "name": "stdout",
          "output_type": "stream",
          "text": [
            "<class 'pandas.core.frame.DataFrame'>\n",
            "RangeIndex: 731 entries, 0 to 730\n",
            "Data columns (total 16 columns):\n",
            " #   Column      Non-Null Count  Dtype         \n",
            "---  ------      --------------  -----         \n",
            " 0   instant     731 non-null    int64         \n",
            " 1   dteday      731 non-null    datetime64[ns]\n",
            " 2   season      731 non-null    category      \n",
            " 3   yr          731 non-null    int64         \n",
            " 4   mnth        731 non-null    int64         \n",
            " 5   holiday     731 non-null    int64         \n",
            " 6   weekday     731 non-null    int64         \n",
            " 7   workingday  731 non-null    int64         \n",
            " 8   weathersit  731 non-null    category      \n",
            " 9   temp        731 non-null    float64       \n",
            " 10  atemp       731 non-null    float64       \n",
            " 11  hum         731 non-null    float64       \n",
            " 12  windspeed   731 non-null    float64       \n",
            " 13  casual      731 non-null    int64         \n",
            " 14  registered  731 non-null    int64         \n",
            " 15  cnt         731 non-null    int64         \n",
            "dtypes: category(2), datetime64[ns](1), float64(4), int64(9)\n",
            "memory usage: 81.9 KB\n"
          ]
        },
        {
          "data": {
            "text/html": [
              "<div>\n",
              "<style scoped>\n",
              "    .dataframe tbody tr th:only-of-type {\n",
              "        vertical-align: middle;\n",
              "    }\n",
              "\n",
              "    .dataframe tbody tr th {\n",
              "        vertical-align: top;\n",
              "    }\n",
              "\n",
              "    .dataframe thead th {\n",
              "        text-align: right;\n",
              "    }\n",
              "</style>\n",
              "<table border=\"1\" class=\"dataframe\">\n",
              "  <thead>\n",
              "    <tr style=\"text-align: right;\">\n",
              "      <th></th>\n",
              "      <th>instant</th>\n",
              "      <th>dteday</th>\n",
              "      <th>season</th>\n",
              "      <th>yr</th>\n",
              "      <th>mnth</th>\n",
              "      <th>holiday</th>\n",
              "      <th>weekday</th>\n",
              "      <th>workingday</th>\n",
              "      <th>weathersit</th>\n",
              "      <th>temp</th>\n",
              "      <th>atemp</th>\n",
              "      <th>hum</th>\n",
              "      <th>windspeed</th>\n",
              "      <th>casual</th>\n",
              "      <th>registered</th>\n",
              "      <th>cnt</th>\n",
              "    </tr>\n",
              "  </thead>\n",
              "  <tbody>\n",
              "    <tr>\n",
              "      <th>0</th>\n",
              "      <td>1</td>\n",
              "      <td>2011-01-01</td>\n",
              "      <td>Spring</td>\n",
              "      <td>0</td>\n",
              "      <td>1</td>\n",
              "      <td>0</td>\n",
              "      <td>6</td>\n",
              "      <td>0</td>\n",
              "      <td>Clear/Few Clouds</td>\n",
              "      <td>0.344167</td>\n",
              "      <td>0.363625</td>\n",
              "      <td>0.805833</td>\n",
              "      <td>0.160446</td>\n",
              "      <td>331</td>\n",
              "      <td>654</td>\n",
              "      <td>985</td>\n",
              "    </tr>\n",
              "    <tr>\n",
              "      <th>1</th>\n",
              "      <td>2</td>\n",
              "      <td>2011-01-02</td>\n",
              "      <td>Spring</td>\n",
              "      <td>0</td>\n",
              "      <td>1</td>\n",
              "      <td>0</td>\n",
              "      <td>0</td>\n",
              "      <td>0</td>\n",
              "      <td>Clear/Few Clouds</td>\n",
              "      <td>0.363478</td>\n",
              "      <td>0.353739</td>\n",
              "      <td>0.696087</td>\n",
              "      <td>0.248539</td>\n",
              "      <td>131</td>\n",
              "      <td>670</td>\n",
              "      <td>801</td>\n",
              "    </tr>\n",
              "    <tr>\n",
              "      <th>2</th>\n",
              "      <td>3</td>\n",
              "      <td>2011-01-03</td>\n",
              "      <td>Spring</td>\n",
              "      <td>0</td>\n",
              "      <td>1</td>\n",
              "      <td>0</td>\n",
              "      <td>1</td>\n",
              "      <td>1</td>\n",
              "      <td>Clear/Few Clouds</td>\n",
              "      <td>0.196364</td>\n",
              "      <td>0.189405</td>\n",
              "      <td>0.437273</td>\n",
              "      <td>0.248309</td>\n",
              "      <td>120</td>\n",
              "      <td>1229</td>\n",
              "      <td>1349</td>\n",
              "    </tr>\n",
              "    <tr>\n",
              "      <th>3</th>\n",
              "      <td>4</td>\n",
              "      <td>2011-01-04</td>\n",
              "      <td>Spring</td>\n",
              "      <td>0</td>\n",
              "      <td>1</td>\n",
              "      <td>0</td>\n",
              "      <td>2</td>\n",
              "      <td>1</td>\n",
              "      <td>Clear/Few Clouds</td>\n",
              "      <td>0.200000</td>\n",
              "      <td>0.212122</td>\n",
              "      <td>0.590435</td>\n",
              "      <td>0.160296</td>\n",
              "      <td>108</td>\n",
              "      <td>1454</td>\n",
              "      <td>1562</td>\n",
              "    </tr>\n",
              "    <tr>\n",
              "      <th>4</th>\n",
              "      <td>5</td>\n",
              "      <td>2011-01-05</td>\n",
              "      <td>Spring</td>\n",
              "      <td>0</td>\n",
              "      <td>1</td>\n",
              "      <td>0</td>\n",
              "      <td>3</td>\n",
              "      <td>1</td>\n",
              "      <td>Clear/Few Clouds</td>\n",
              "      <td>0.226957</td>\n",
              "      <td>0.229270</td>\n",
              "      <td>0.436957</td>\n",
              "      <td>0.186900</td>\n",
              "      <td>82</td>\n",
              "      <td>1518</td>\n",
              "      <td>1600</td>\n",
              "    </tr>\n",
              "  </tbody>\n",
              "</table>\n",
              "</div>"
            ],
            "text/plain": [
              "   instant     dteday  season  yr  mnth  holiday  weekday  workingday        weathersit      temp     atemp       hum  windspeed  casual  registered   cnt\n",
              "0        1 2011-01-01  Spring   0     1        0        6           0  Clear/Few Clouds  0.344167  0.363625  0.805833   0.160446     331         654   985\n",
              "1        2 2011-01-02  Spring   0     1        0        0           0  Clear/Few Clouds  0.363478  0.353739  0.696087   0.248539     131         670   801\n",
              "2        3 2011-01-03  Spring   0     1        0        1           1  Clear/Few Clouds  0.196364  0.189405  0.437273   0.248309     120        1229  1349\n",
              "3        4 2011-01-04  Spring   0     1        0        2           1  Clear/Few Clouds  0.200000  0.212122  0.590435   0.160296     108        1454  1562\n",
              "4        5 2011-01-05  Spring   0     1        0        3           1  Clear/Few Clouds  0.226957  0.229270  0.436957   0.186900      82        1518  1600"
            ]
          },
          "execution_count": 83,
          "metadata": {},
          "output_type": "execute_result"
        }
      ],
      "source": [
        "day_df['season'] = day_df['season'].astype('category')\n",
        "day_df['weathersit'] = hour_df['weathersit'].astype('category')\n",
        "\n",
        "day_df['season'] = day_df['season'].cat.rename_categories({\n",
        "    1: 'Spring',\n",
        "    2: 'Summer',\n",
        "    3: 'Fall',\n",
        "    4: 'Winter'\n",
        "})\n",
        "\n",
        "day_df['weathersit'] = day_df['weathersit'].cat.rename_categories({\n",
        "    1: 'Clear/Few Clouds',\n",
        "    2: 'Mist/Cloudy',\n",
        "    3: 'Light Rain/Snow',\n",
        "    4: 'Heavy Rain/Snow'\n",
        "})\n",
        "\n",
        "day_df.info()\n",
        "day_df.head()"
      ]
    },
    {
      "cell_type": "markdown",
      "metadata": {},
      "source": [
        "melakukan hal sama untuk data frame day"
      ]
    },
    {
      "cell_type": "markdown",
      "metadata": {
        "id": "gp-Y6wU38DC1"
      },
      "source": [
        "## Exploratory Data Analysis (EDA)"
      ]
    },
    {
      "cell_type": "markdown",
      "metadata": {
        "id": "MW7WF2kr8DC1"
      },
      "source": [
        "### Explore EDA 1 : melakukan eksplorasi pada jumlah pengguna berdasarkan musim dan cuaca untuk menjawab pertanyaan pertama"
      ]
    },
    {
      "cell_type": "code",
      "execution_count": 87,
      "metadata": {
        "id": "e9CQCZjk8DC2"
      },
      "outputs": [
        {
          "name": "stdout",
          "output_type": "stream",
          "text": [
            "    season        weathersit  cnt_total     cnt_avg\n",
            "0   Spring  Clear/Few Clouds     325278  122.055535\n",
            "1   Spring       Mist/Cloudy     124205  103.074689\n",
            "2   Spring   Light Rain/Snow      21642   58.650407\n",
            "3   Spring   Heavy Rain/Snow        223   74.333333\n",
            "4   Summer  Clear/Few Clouds     664463  232.410983\n",
            "5   Summer       Mist/Cloudy     207363  181.261364\n",
            "6   Summer   Light Rain/Snow      46763  115.179803\n",
            "7   Summer   Heavy Rain/Snow          0         NaN\n",
            "8     Fall  Clear/Few Clouds     801941  244.494207\n",
            "9     Fall       Mist/Cloudy     212932  224.848997\n",
            "10    Fall   Light Rain/Snow      46256  171.955390\n",
            "11    Fall   Heavy Rain/Snow          0         NaN\n",
            "12  Winter  Clear/Few Clouds     546491  209.463779\n",
            "13  Winter       Mist/Cloudy     251452  201.483974\n",
            "14  Winter   Light Rain/Snow      43670  116.453333\n",
            "15  Winter   Heavy Rain/Snow          0         NaN\n"
          ]
        }
      ],
      "source": [
        "# Analisis pengaruh musim dan cuaca terhadap peminjaman sepeda\n",
        "\n",
        "# Hitung total peminjaman berdasarkan musim dan cuaca\n",
        "df_season_weather = hour_df.groupby([\"season\", \"weathersit\"], observed=False)[\"cnt\"].sum().reset_index()\n",
        "\n",
        "# Hitung rata-rata peminjaman berdasarkan musim dan cuaca\n",
        "df_season_weather_avg = hour_df.groupby([\"season\", \"weathersit\"], observed=False)[\"cnt\"].mean().reset_index()\n",
        "\n",
        "# Gabungkan total dan rata-rata dalam satu tabel\n",
        "analysis_season_weather = df_season_weather.merge(\n",
        "    df_season_weather_avg, \n",
        "    on=[\"season\", \"weathersit\"], \n",
        "    suffixes=(\"_total\", \"_avg\"))\n",
        "\n",
        "# Tampilkan hasil analisis\n",
        "print(analysis_season_weather)"
      ]
    },
    {
      "cell_type": "markdown",
      "metadata": {},
      "source": [
        "### Insight :\n",
        "Insight dari Hasil Analisis Pengaruh Musim dan Cuaca terhadap Peminjaman Sepeda:\n",
        "\n",
        "- Clear/Few Clouds:\n",
        "    - Spring: Total penyewaan 325,278 dengan rata-rata harian 122. Kondisi ini dominan selama musim semi.\n",
        "    - Summer: Total penyewaan tertinggi 664,463 dengan rata-rata harian 232, menunjukkan bahwa musim panas dengan kondisi cerah adalah musim paling aktif.\n",
        "    - Fall: Total penyewaan 801,941 dengan rata-rata 244—paling tinggi dibandingkan musim lainnya.\n",
        "    - Winter: Total penyewaan 546,491 dengan rata-rata harian 209, tetap signifikan meskipun ada pengaruh cuaca dingin.\n",
        "\n",
        "- Mist/Cloudy:\n",
        "    - Spring: Total penyewaan 124,205 dengan rata-rata 103. Penyewaan berkurang dibandingkan kondisi cerah.\n",
        "    - Summer: Total penyewaan 207,363 dengan rata-rata harian 181, cukup tinggi meskipun cuaca berawan.\n",
        "    - Fall: Total penyewaan 212,932 dengan rata-rata 224, menunjukkan musim ini tetap ramai meski ada kabut atau awan.\n",
        "    - Winter: Total penyewaan 251,452 dengan rata-rata 201, menandakan bahwa penyewaan tetap stabil meskipun cuaca tidak ideal.\n",
        "\n",
        "- Light Rain/Snow:\n",
        "    - Spring: Total penyewaan 21,642 dengan rata-rata 58, sangat rendah karena kondisi tidak mendukung.\n",
        "    - Summer: Total penyewaan 46,763 dengan rata-rata 115, lebih tinggi dibandingkan musim lain, mungkin karena hujan ringan di musim panas lebih toleran.\n",
        "    - Fall: Total penyewaan 46,256 dengan rata-rata 171, lebih tinggi dibanding musim semi, tetapi lebih rendah dari musim cerah.\n",
        "    - Winter: Total penyewaan 43,670 dengan rata-rata 116, cukup konsisten dengan musim semi dan panas.\n",
        "\n",
        "- Heavy Rain/Snow:\n",
        "    - Spring, Summer, Fall, Winter: Tidak ada aktivitas penyewaan sepeda (Total = 0; Rata-rata = NaN). Cuaca buruk seperti hujan lebat atau salju tampaknya hampir menghentikan aktivitas penyewaan."
      ]
    },
    {
      "cell_type": "markdown",
      "metadata": {},
      "source": [
        "## Explore EDA 2 : mencari trend pengguna bike sharing berdasarkan tahun untuk mengetahui dampaknya terhadap musim"
      ]
    },
    {
      "cell_type": "code",
      "execution_count": 52,
      "metadata": {},
      "outputs": [
        {
          "name": "stdout",
          "output_type": "stream",
          "text": [
            "           casual registered        cnt\n",
            "2011      247,252    995,851  1,243,103\n",
            "2012      372,765  1,676,811  2,049,576\n",
            "% Change   50.76%     68.38%     64.88%\n"
          ]
        },
        {
          "name": "stderr",
          "output_type": "stream",
          "text": [
            "C:\\Users\\samue\\AppData\\Local\\Temp\\ipykernel_15184\\2453542309.py:17: FutureWarning: DataFrame.applymap has been deprecated. Use DataFrame.map instead.\n",
            "  combined_summary.iloc[:-1] = combined_summary.iloc[:-1].applymap(lambda num: f\"{int(num):,}\")\n"
          ]
        }
      ],
      "source": [
        "# Hitung total pengguna sepeda tahunan\n",
        "annual_totals = hour_df.groupby('yr')[['casual', 'registered', 'cnt']].sum()\n",
        "\n",
        "# Berikan label deskriptif pada indeks\n",
        "annual_totals.index = ['2011', '2012']\n",
        "\n",
        "# Kalkulasi persentase perubahan dari tahun sebelumnya\n",
        "percentage_change = annual_totals.pct_change() * 100\n",
        "\n",
        "# Gabungkan data utama dengan data persentase perubahan\n",
        "combined_summary = annual_totals.astype(str)  # Konversi ke string agar fleksibel dengan format tambahan\n",
        "combined_summary.loc['% Change'] = percentage_change.iloc[1].apply(\n",
        "    lambda val: f\"{val:.2f}%\" if pd.notna(val) else '-'\n",
        ")\n",
        "\n",
        "# Tambahkan format angka dengan pemisah ribuan\n",
        "combined_summary.iloc[:-1] = combined_summary.iloc[:-1].applymap(lambda num: f\"{int(num):,}\")\n",
        "\n",
        "# Cetak hasil akhir\n",
        "print(combined_summary)\n",
        "\n"
      ]
    },
    {
      "cell_type": "markdown",
      "metadata": {
        "id": "th_Lzl2Fkj9O"
      },
      "source": [
        "**Insight:**\n",
        "- Performa Tahunan (2011 vs 2012):\n",
        "    - Casual Users:\n",
        "        - Pada tahun 2011: Total 247,252 pengguna kasual.\n",
        "        - Pada tahun 2012: Total meningkat menjadi 372,765 pengguna kasual.\n",
        "        - Persentase Perubahan: Naik sebesar 50.76%, menunjukkan peningkatan signifikan dalam partisipasi pengguna kasual.\n",
        "\n",
        "    - Registered Users:\n",
        "        - Pada tahun 2011: Total 995,851 pengguna terdaftar.\n",
        "        - Pada tahun 2012: Total meningkat menjadi 1,676,811 pengguna terdaftar.\n",
        "        - Persentase Perubahan: Naik sebesar 68.38%, menunjukkan pertumbuhan yang lebih besar dibandingkan pengguna kasual, kemungkinan terkait promosi atau manfaat berlangganan.\n",
        "\n",
        "- Total Rentals (cnt):\n",
        "    - Pada tahun 2011: Total 1,243,103 penyewaan sepeda.\n",
        "    - Pada tahun 2012: Total meningkat menjadi 2,049,576 penyewaan sepeda.Persentase Perubahan: Naik sebesar 64.88%, menunjukkan pertumbuhan keseluruhan dari layanan bike-sharing."
      ]
    },
    {
      "cell_type": "markdown",
      "metadata": {
        "id": "zsyZjqak8DC2"
      },
      "source": [
        "## Visualization & Explanatory Analysis"
      ]
    },
    {
      "cell_type": "markdown",
      "metadata": {
        "id": "HZxOiQ6n8DC2"
      },
      "source": [
        "### Pertanyaan 1:Bagaimana tren penggunaan bike sharing setiap musim dalam satu tahun? Apakah ada perbedaan performa penggunaan antar musim (misalnya, musim dingin vs musim panas)?"
      ]
    },
    {
      "cell_type": "code",
      "execution_count": 86,
      "metadata": {
        "id": "1swJUdAD8DC2"
      },
      "outputs": [
        {
          "name": "stderr",
          "output_type": "stream",
          "text": [
            "C:\\Users\\samue\\AppData\\Local\\Temp\\ipykernel_15184\\680360285.py:5: FutureWarning: The default of observed=False is deprecated and will be changed to True in a future version of pandas. Pass observed=False to retain current behavior or observed=True to adopt the future default and silence this warning.\n",
            "  season_trend = day_df.groupby(\"season\")[\"cnt\"].mean().reset_index()\n",
            "C:\\Users\\samue\\AppData\\Local\\Temp\\ipykernel_15184\\680360285.py:12: FutureWarning: \n",
            "\n",
            "Passing `palette` without assigning `hue` is deprecated and will be removed in v0.14.0. Assign the `x` variable to `hue` and set `legend=False` for the same effect.\n",
            "\n",
            "  sns.barplot(data=season_trend, x=\"season\", y=\"cnt\", order=season_order, palette=\"viridis\")\n"
          ]
        },
        {
          "data": {
            "image/png": "[encoded data removed]",
            "text/plain": [
              "<Figure size 800x500 with 1 Axes>"
            ]
          },
          "metadata": {},
          "output_type": "display_data"
        }
      ],
      "source": [
        "# Pastikan tipe data 'season' sudah kategori\n",
        "day_df['season'] = day_df['season'].astype('category')\n",
        "\n",
        "# Menghitung rata-rata penyewaan sepeda per musim\n",
        "season_trend = day_df.groupby(\"season\")[\"cnt\"].mean().reset_index()\n",
        "\n",
        "# Urutan musim agar lebih terstruktur dalam visualisasi\n",
        "season_order = [\"Spring\", \"Summer\", \"Fall\", \"Winter\"]\n",
        "\n",
        "# Membuat visualisasi\n",
        "plt.figure(figsize=(8, 5))\n",
        "sns.barplot(data=season_trend, x=\"season\", y=\"cnt\", order=season_order, palette=\"viridis\")\n",
        "\n",
        "# Menambahkan judul dan label\n",
        "plt.title(\"Tren Penggunaan Bike Sharing Setiap Musim\", fontsize=14)\n",
        "plt.xlabel(\"Musim\", fontsize=12)\n",
        "plt.ylabel(\"Rata-rata Penyewaan\", fontsize=12)\n",
        "plt.xticks(rotation=30)  # Memiringkan label jika perlu\n",
        "\n",
        "# Menampilkan grafik\n",
        "plt.show()\n"
      ]
    },
    {
      "cell_type": "markdown",
      "metadata": {},
      "source": [
        "**Insight**\n",
        "Bagaimana tren penggunaan bike sharing setiap musim dalam satu tahun? Apakah ada perbedaan performa penggunaan antar musim (misalnya, musim dingin vs musim panas)?\n",
        "\n",
        "Dari visualisasi tren penggunaan bike sharing berdasarkan musim, kita dapat mengamati beberapa pola penting:\n",
        "\n",
        "1. Musim Panas (Summer) memiliki jumlah penyewaan tertinggi \n",
        "Penyewaan sepeda meningkat drastis di musim panas, kemungkinan besar karena cuaca yang hangat dan mendukung aktivitas luar ruangan.\n",
        "\n",
        "Banyak orang yang menggunakan sepeda baik untuk rekreasi maupun transportasi harian.\n",
        "\n",
        "2. Musim Dingin (Winter) memiliki jumlah penyewaan terendah \n",
        "Jumlah penyewaan menurun drastis selama musim dingin, kemungkinan karena cuaca dingin, salju, dan kondisi jalan yang tidak ideal untuk bersepeda.\n",
        "\n",
        "Orang cenderung menggunakan alternatif transportasi lain seperti kendaraan pribadi atau transportasi umum.\n",
        "\n",
        "3. Musim Semi (Spring) dan Musim Gugur (Fall) menunjukkan tren menengah\n",
        "Musim semi menunjukkan tren peningkatan seiring dengan cuaca yang mulai menghangat.\n",
        "\n",
        "Musim gugur mulai menunjukkan penurunan karena suhu mulai mendingin menjelang musim dingin.\n",
        "\n"
      ]
    },
    {
      "cell_type": "markdown",
      "metadata": {
        "id": "DgHI7CiU8DC2"
      },
      "source": [
        "### Pertanyaan 2:Bagaimana perbedaan jumlah penyewaan bike sharing antara hari kerja dan akhir pekan pada musim tertentu? Apakah pengaruhnya berbeda di setiap musim?"
      ]
    },
    {
      "cell_type": "code",
      "execution_count": 88,
      "metadata": {
        "id": "Go0lCsvO8DC2"
      },
      "outputs": [
        {
          "name": "stderr",
          "output_type": "stream",
          "text": [
            "C:\\Users\\samue\\AppData\\Local\\Temp\\ipykernel_15184\\2757978820.py:14: FutureWarning: \n",
            "\n",
            "The `ci` parameter is deprecated. Use `errorbar=None` for the same effect.\n",
            "\n",
            "  sns.barplot(data=day_df, x=\"season\", y=\"cnt\", hue=\"day_type\", estimator=\"mean\", ci=None, palette=\"coolwarm\")\n"
          ]
        },
        {
          "data": {
            "image/png": "[encoded data removed]",
            "text/plain": [
              "<Figure size 1000x600 with 1 Axes>"
            ]
          },
          "metadata": {},
          "output_type": "display_data"
        }
      ],
      "source": [
        "# Pastikan tipe data season dan workingday sudah benar\n",
        "day_df[\"season\"] = day_df[\"season\"].astype(\"category\")\n",
        "day_df[\"workingday\"] = day_df[\"workingday\"].astype(\"category\")\n",
        "\n",
        "# Pastikan kategori season sudah sesuai dengan label yang benar\n",
        "season_labels = {1: \"Spring\", 2: \"Summer\", 3: \"Fall\", 4: \"Winter\"}\n",
        "day_df[\"season\"] = day_df[\"season\"].replace(season_labels)\n",
        "\n",
        "# Buat kolom baru untuk kategori hari (Hari Kerja / Akhir Pekan)\n",
        "day_df[\"day_type\"] = day_df[\"workingday\"].map({0: \"Akhir Pekan\", 1: \"Hari Kerja\"})\n",
        "\n",
        "# Buat visualisasi perbedaan jumlah penyewaan antara Hari Kerja & Akhir Pekan untuk setiap musim\n",
        "plt.figure(figsize=(10, 6))\n",
        "sns.barplot(data=day_df, x=\"season\", y=\"cnt\", hue=\"day_type\", estimator=\"mean\", ci=None, palette=\"coolwarm\")\n",
        "\n",
        "# Tambahkan judul dan label\n",
        "plt.title(\"Perbedaan Penyewaan Bike Sharing Antara Hari Kerja dan Akhir Pekan\")\n",
        "plt.xlabel(\"Musim\")\n",
        "plt.ylabel(\"Rata-rata Penyewaan\")\n",
        "plt.legend(title=\"Kategori Hari\")\n",
        "\n",
        "# Tampilkan plot\n",
        "plt.show()"
      ]
    },
    {
      "cell_type": "markdown",
      "metadata": {
        "id": "_0-36BDLklRg"
      },
      "source": [
        "**Insight:**\n",
        "- Musim dengan Penyewaan Tertinggi\n",
        "    - Biasanya, jumlah penyewaan tertinggi terjadi pada musim panas (Summer) karena cuaca lebih mendukung untuk bersepeda.Sebaliknya, penyewaan lebih rendah pada musim dingin (Winter) karena suhu dingin dan kondisi yang kurang nyaman.\n",
        "\n",
        "- Perbedaan Hari Kerja vs Akhir Pekan\n",
        "    - Hari kerja (working day) biasanya memiliki jumlah penyewaan lebih tinggi dibandingkan akhir pekan, terutama karena banyak orang menggunakan sepeda untuk bekerja atau sekolah.\n",
        "    - Akhir pekan (weekend) sering menunjukkan pola yang lebih santai, dengan jumlah penyewaan lebih sedikit, kecuali di musim panas.\n",
        "\n",
        "- Dampak Musim terhadap Pola Penyewaan\n",
        "    - Pada musim panas (Summer) dan musim semi (Spring), jumlah penyewaan lebih merata antara hari kerja dan akhir pekan.\n",
        "    - Pada musim dingin (Winter), baik hari kerja maupun akhir pekan mengalami penurunan drastis dalam jumlah penyewaan.\n",
        "\n"
      ]
    },
    {
      "cell_type": "markdown",
      "metadata": {
        "id": "_WeHlCeX8DC2"
      },
      "source": [
        "## Conclusion"
      ]
    },
    {
      "cell_type": "markdown",
      "metadata": {
        "id": "ZTcyR48Y8DC2"
      },
      "source": [
        "- Conclution pertanyaan 1 : \n",
        "Tren Penggunaan Bike Sharing Berdasarkan Musim\n",
        "    - Musim panas menjadi musim dengan penggunaan tertinggi karena cuaca yang nyaman.\n",
        "    - Musim dingin memiliki penggunaan terendah karena kondisi cuaca yang kurang mendukung.\n",
        "    - Musim semi dan musim gugur berada di tengah-tengah, dengan pola transisi antara musim panas dan dingin.\n",
        "\n",
        "- Conclution pertanyaan 2 : \n",
        "Hari kerja memiliki lebih banyak penyewaan dibanding akhir pekan, kemungkinan karena banyak orang menggunakan sepeda untuk bekerja atau sekolah.\n",
        "    - Di musim panas, penyewaan antara hari kerja dan akhir pekan cenderung lebih seimbang, karena banyak orang juga menggunakan sepeda untuk aktivitas rekreasi.\n",
        "    - Di musim dingin, baik hari kerja maupun akhir pekan mengalami penurunan drastis dalam penyewaan."
      ]
    }
  ],
  "metadata": {
    "colab": {
      "provenance": []
    },
    "kernelspec": {
      "display_name": "myenv",
      "language": "python",
      "name": "python3"
    },
    "language_info": {
      "codemirror_mode": {
        "name": "ipython",
        "version": 3
      },
      "file_extension": ".py",
      "mimetype": "text/x-python",
      "name": "python",
      "nbconvert_exporter": "python",
      "pygments_lexer": "ipython3",
      "version": "3.12.3"
    },
    "orig_nbformat": 4
  },
  "nbformat": 4,
  "nbformat_minor": 0
}
